{
 "cells": [
  {
   "cell_type": "markdown",
   "id": "194d5dbe",
   "metadata": {},
   "source": [
    "# Question 2 \n",
    "Function fileLength(), given to you, takes the name of a file as input and returns the length of the file: \n",
    ">>> fileLength('midterm.py') \n",
    "284 \n",
    ">>> fileLength('idterm.py') \n",
    "Traceback (most recent call last): \n",
    "File \"<pyshell#34>\", line 1, in <module> fileLength('idterm.py') \n",
    "    File \"/Users/me/midterm.py\", line 3, in fileLength \n",
    "    infile = open(filename) \n",
    "    FileNotFoundError: [Errno 2] No such file or directory: \n",
    "    'idterm.py'\n",
    "As shown above, if the file cannot be found by the interpreter or if it cannot be read as a text file, an exception will be raised. Modify function fileLength() so that a friendly message is printed instead: \n",
    ">>> fileLength('midterm.py') \n",
    "358 \n",
    ">>> fileLength('idterm.py') \n",
    "File idterm.py not found."
   ]
  },
  {
   "cell_type": "code",
   "execution_count": 2,
   "id": "d80db093",
   "metadata": {},
   "outputs": [
    {
     "name": "stdout",
     "output_type": "stream",
     "text": [
      "Oops! File filelength.txt not found.\n"
     ]
    }
   ],
   "source": [
    "def file_length(file_name):\n",
    "    \n",
    "    try:\n",
    "        file = open(file_name)\n",
    "        \n",
    "    except FileNotFoundError:\n",
    "        print(\"Oops! File \" +file_name+\" not found.\")\n",
    "    \n",
    "    else:\n",
    "        file = open(file_name)\n",
    "        contents = file.read()\n",
    "        file.close()\n",
    "        print(len(contents))\n",
    "        \n",
    "file_length(\"filelength.txt\")"
   ]
  },
  {
   "cell_type": "code",
   "execution_count": null,
   "id": "534d4848",
   "metadata": {},
   "outputs": [],
   "source": []
  }
 ],
 "metadata": {
  "kernelspec": {
   "display_name": "Python 3 (ipykernel)",
   "language": "python",
   "name": "python3"
  },
  "language_info": {
   "codemirror_mode": {
    "name": "ipython",
    "version": 3
   },
   "file_extension": ".py",
   "mimetype": "text/x-python",
   "name": "python",
   "nbconvert_exporter": "python",
   "pygments_lexer": "ipython3",
   "version": "3.9.7"
  }
 },
 "nbformat": 4,
 "nbformat_minor": 5
}
