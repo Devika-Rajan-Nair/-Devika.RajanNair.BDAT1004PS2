{
 "cells": [
  {
   "cell_type": "markdown",
   "id": "5e48585e",
   "metadata": {},
   "source": [
    "# Question 3 \n",
    "Write a class named Marsupial that can be used as shown below: \n",
    ">>> m = Marsupial() \n",
    ">>> m.put_in_pouch('doll') \n",
    ">>> m.put_in_pouch('firetruck') \n",
    ">>> m.put_in_pouch('kitten') \n",
    ">>> m.pouch_contents() ['doll', 'firetruck', 'kitten']\n",
    "\n",
    "Now write a class named Kangaroo as a subclass of Marsupial that inherits all the attributes of Marsupial and also:\n",
    "a. extends the Marsupial __init__ constructor to take, as input, the coordinates x and y of the Kangaroo object,\n",
    "b. supports method jump that takes number values dx and dy as input and moves the kangaroo by dx units along the x-axis and by dy units along the y-axis, and\n",
    "c. overloads the __str__ operator so it behaves as shown below.\n",
    ">>> k = Kangaroo(0,0) \n",
    ">>> print(k) I am a Kangaroo located at coordinates (0,0) \n",
    ">>> k.put_in_pouch('doll') \n",
    ">>> k.put_in_pouch('firetruck') \n",
    ">>> k.put_in_pouch('kitten') \n",
    ">>> k.pouch_contents() \n",
    "['doll', 'firetruck', 'kitten'] \n",
    ">>> k.jump(1,0) \n",
    ">>> k.jump(1,0) \n",
    ">>> k.jump(1,0) \n",
    ">>> print(k) I am a Kangaroo located at coordinates (3,0)\n",
    "    "
   ]
  },
  {
   "cell_type": "code",
   "execution_count": 4,
   "id": "ba627169",
   "metadata": {},
   "outputs": [
    {
     "name": "stdout",
     "output_type": "stream",
     "text": [
      "['doll', 'firetruck', 'kitten']\n",
      "I am a Kangaroo located at coordinates (0,0)\n",
      "['doll', 'firetruck', 'kitten']\n",
      "I am a Kangaroo located at coordinates (3,0)\n"
     ]
    }
   ],
   "source": [
    "class Marsupial:\n",
    " \n",
    "    def __init__(self):\n",
    "        self.list1 = []\n",
    " \n",
    "    def put_in_pouch(self, item):\n",
    "        self.list1.append(item)\n",
    " \n",
    "    def pouch_contents(self):\n",
    "        return self.list1\n",
    "    \n",
    "mar = Marsupial()\n",
    "mar.put_in_pouch('doll')\n",
    "mar.put_in_pouch('firetruck')\n",
    "mar.put_in_pouch('kitten')\n",
    "print(mar.pouch_contents())\n",
    "\n",
    "class Marsupial:\n",
    " \n",
    "    def __init__(self):\n",
    "        self.list1 = []\n",
    " \n",
    "    def put_in_pouch(self, item):\n",
    "        self.list1.append(item)\n",
    " \n",
    "    def pouch_contents(self):\n",
    "        return self.list1\n",
    "\n",
    "class Kangaroo(Marsupial):\n",
    " \n",
    "    def __init__(self, x, y):\n",
    "        Marsupial.__init__(self)\n",
    "        self.x = x\n",
    "        self.y = y\n",
    " \n",
    "    def jump(self, dx, dy):\n",
    "        self.x += dx\n",
    "        self.y += dy\n",
    " \n",
    "    def __str__(self):\n",
    "        return 'I am a Kangaroo located at coordinates ({0},{1})'.format(self.x, self.y)\n",
    " \n",
    " \n",
    "object1 = Kangaroo(0, 0)\n",
    "print(object1)\n",
    "object1.put_in_pouch('doll')\n",
    "object1.put_in_pouch('firetruck')\n",
    "object1.put_in_pouch('kitten')\n",
    "print(object1.pouch_contents())\n",
    "object1.jump(1, 0)\n",
    "object1.jump(1, 0)\n",
    "object1.jump(1, 0)\n",
    "print(object1)"
   ]
  },
  {
   "cell_type": "code",
   "execution_count": null,
   "id": "d4cd62df",
   "metadata": {},
   "outputs": [],
   "source": []
  }
 ],
 "metadata": {
  "kernelspec": {
   "display_name": "Python 3 (ipykernel)",
   "language": "python",
   "name": "python3"
  },
  "language_info": {
   "codemirror_mode": {
    "name": "ipython",
    "version": 3
   },
   "file_extension": ".py",
   "mimetype": "text/x-python",
   "name": "python",
   "nbconvert_exporter": "python",
   "pygments_lexer": "ipython3",
   "version": "3.9.7"
  }
 },
 "nbformat": 4,
 "nbformat_minor": 5
}
