{
 "cells": [
  {
   "cell_type": "markdown",
   "id": "2046fc3f",
   "metadata": {},
   "source": [
    "# Question 1\n",
    "Consider the following Python module:\n",
    "a = 0\n",
    "def b():\n",
    "global a\n",
    "a = c(a)\n",
    "def c(a):\n",
    "return a + 2\n",
    "After importing the module into the interpreter, you execute:\n",
    ">>> b()\n",
    ">>> b()\n",
    ">>> b()\n",
    ">>> a\n",
    "?\n",
    "\n",
    "What value is displayed when the last expression (a) is evaluated? Explain your answer by indicating what happens in every executed statement."
   ]
  },
  {
   "cell_type": "code",
   "execution_count": 8,
   "id": "da0071b3",
   "metadata": {},
   "outputs": [
    {
     "data": {
      "text/plain": [
       "6"
      ]
     },
     "execution_count": 8,
     "metadata": {},
     "output_type": "execute_result"
    }
   ],
   "source": [
    "# Output of the above code : 6\n",
    "a = 0\n",
    "def b():\n",
    "    global a\n",
    "    a = c(a)\n",
    "def c(a):\n",
    "    return a + 2\n",
    "b()\n",
    "b()\n",
    "b()\n",
    "a"
   ]
  },
  {
   "cell_type": "markdown",
   "id": "b26a0c61",
   "metadata": {},
   "source": [
    "# Answer : 1\n",
    "\n",
    "All variables that are created outside of functions are called global variables. But those which are created inside any function is called local varibales whose scope will be within the respective function even if it has the same name as that of any global variable. But here, the local variable of function b() - 'a' is declared as global using \"global\" keyword and then it is passed into another function c(), where value of 'a' gets added by 2 each time the c() function gets called inside function b().\n",
    "Since 'a' is now a global varibale, the change in its value gets refelcetd across all the functions in the code.\n",
    "i.e.\n",
    "first b() -> gives output as a+2 = 0+2 =2\n",
    "second b() -> gives output as a+2 = 2+2 =4\n",
    "third b() -> gives output as a+2 = 4+2 =6\n",
    "a = 6"
   ]
  },
  {
   "cell_type": "code",
   "execution_count": null,
   "id": "2b9988a1",
   "metadata": {},
   "outputs": [],
   "source": []
  }
 ],
 "metadata": {
  "kernelspec": {
   "display_name": "Python 3 (ipykernel)",
   "language": "python",
   "name": "python3"
  },
  "language_info": {
   "codemirror_mode": {
    "name": "ipython",
    "version": 3
   },
   "file_extension": ".py",
   "mimetype": "text/x-python",
   "name": "python",
   "nbconvert_exporter": "python",
   "pygments_lexer": "ipython3",
   "version": "3.9.7"
  }
 },
 "nbformat": 4,
 "nbformat_minor": 5
}
