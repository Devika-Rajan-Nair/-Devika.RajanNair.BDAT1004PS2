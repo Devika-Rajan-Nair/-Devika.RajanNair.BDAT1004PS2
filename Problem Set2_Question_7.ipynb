{
 "cells": [
  {
   "cell_type": "markdown",
   "id": "ded694a7",
   "metadata": {},
   "source": [
    "# Question 7 \n",
    "Implement recursive function webdir() that takes as input: a URL (as a string) and non-negative integers depth and indent. Your function should visit every web page reachable from the starting URL web page in depth clicks or less, and print each web page's URL. As shown below, indentation, specified by indent, should be used to indicate the depth of a URL. \n",
    ">>> webdir('http://reed.cs.depaul.edu/lperkovic/csc242/test1.html', 2, 0) http://reed.cs.depaul.edu/lperkovic/csc242/test1.html http://reed.cs.depaul.edu/lperkovic/csc242/test2.html http://reed.cs.depaul.edu/lperkovic/csc242/test4.html http://reed.cs.depaul.edu/lperkovic/csc242/test3.html http://reed.cs.depaul.edu/lperkovic/csc242/test4.html"
   ]
  },
  {
   "cell_type": "code",
   "execution_count": 1,
   "id": "a1feae2d",
   "metadata": {},
   "outputs": [
    {
     "name": "stdout",
     "output_type": "stream",
     "text": [
      " http://reed.cs.depaul.edu/lperkovic/test1.html\n",
      "         http://reed.cs.depaul.edu/lperkovic/test2.html\n",
      "                 http://reed.cs.depaul.edu/lperkovic/test4.html\n",
      "         http://reed.cs.depaul.edu/lperkovic/test3.html\n",
      "                 http://reed.cs.depaul.edu/lperkovic/test4.html\n"
     ]
    }
   ],
   "source": [
    "from html.parser import HTMLParser    \n",
    "from urllib.request import urlopen\n",
    "from urllib.parse import urljoin\n",
    "\n",
    "class App(HTMLParser):\n",
    "    \n",
    "\n",
    "    def __init__(self, url):\n",
    "      \n",
    "        HTMLParser.__init__(self)\n",
    "        self.url = url\n",
    "        self.url_links = []\n",
    "\n",
    "\n",
    "    def append(self):\n",
    "        \n",
    "        return self.url_links\n",
    "\n",
    "\n",
    "\n",
    "\n",
    "    def handle_starttag(self, url_tag, attributes):\n",
    "        for a in attributes:\n",
    "            ab = urljoin(self.url, a[1])\n",
    "            if ab[:4] == 'http': \n",
    "                self.url_links.append(ab)\n",
    "i = 0\n",
    "def webdir(url, depth, i):\n",
    "   \n",
    "\n",
    "    depth = depth - 1    \n",
    "    print(i*'  ', url)         \n",
    "\n",
    "    objective = urlopen(url).read().decode()\n",
    "    collection = Appender(url)\n",
    "    collection.feed(objective)\n",
    "    urls = collection.append() \n",
    " \n",
    "    url_links = urls\n",
    "    i= i + 4\n",
    "\n",
    "\n",
    "    for link in url_links:\n",
    "        if depth < 0 or i < 0:\n",
    "            return 1\n",
    "        else:\n",
    "            webdir(link, depth, i)\n",
    "\n",
    "\n",
    "\n",
    "webdir('http://reed.cs.depaul.edu/lperkovic/test1.html', 2, 0)"
   ]
  },
  {
   "cell_type": "code",
   "execution_count": null,
   "id": "7702a9d6",
   "metadata": {},
   "outputs": [],
   "source": []
  }
 ],
 "metadata": {
  "kernelspec": {
   "display_name": "Python 3 (ipykernel)",
   "language": "python",
   "name": "python3"
  },
  "language_info": {
   "codemirror_mode": {
    "name": "ipython",
    "version": 3
   },
   "file_extension": ".py",
   "mimetype": "text/x-python",
   "name": "python",
   "nbconvert_exporter": "python",
   "pygments_lexer": "ipython3",
   "version": "3.9.7"
  }
 },
 "nbformat": 4,
 "nbformat_minor": 5
}
